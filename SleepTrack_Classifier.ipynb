{
 "cells": [
  {
   "cell_type": "markdown",
   "id": "ec449d0c",
   "metadata": {},
   "source": [
    "Aplicando o classificador arvore de decisão Random Forest "
   ]
  },
  {
   "cell_type": "code",
   "execution_count": null,
   "id": "24db0411",
   "metadata": {
    "vscode": {
     "languageId": "plaintext"
    }
   },
   "outputs": [],
   "source": [
    "#Bibliotecas\n",
    "import pandas as pd\n",
    "import numpy as np\n",
    "import sklearn\n",
    "import seaborn as sns\n",
    "import matplotlib.pyplot as plt\n",
    "import scipy.stats as stats"
   ]
  },
  {
   "cell_type": "code",
   "execution_count": null,
   "id": "d221e400",
   "metadata": {
    "vscode": {
     "languageId": "plaintext"
    }
   },
   "outputs": [],
   "source": [
    "data_origin = pd.read_csv(r\"Base de Dados\\sleep_cycle_productivity.csv\")\n",
    "\n",
    "data_origin.head()"
   ]
  },
  {
   "cell_type": "code",
   "execution_count": null,
   "id": "83dd4d29",
   "metadata": {
    "vscode": {
     "languageId": "plaintext"
    }
   },
   "outputs": [],
   "source": [
    "variaveis = [   \n",
    "    'Age',                                          \n",
    "    'Total Sleep Hours',                                  \n",
    "    'Exercise (mins/day)',             \n",
    "    'Caffeine Intake (mg)',            \n",
    "    'Screen Time Before Bed (mins)',    \n",
    "    'Work Hours (hrs/day)',                  \n",
    "]"
   ]
  }
 ],
 "metadata": {
  "language_info": {
   "name": "python"
  }
 },
 "nbformat": 4,
 "nbformat_minor": 5
}
